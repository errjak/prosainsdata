{
 "cells": [
  {
   "cell_type": "markdown",
   "metadata": {},
   "source": [
    "# Sacrapping Data Comment from Youtube"
   ]
  },
  {
   "cell_type": "code",
   "execution_count": 2,
   "metadata": {},
   "outputs": [
    {
     "name": "stderr",
     "output_type": "stream",
     "text": [
      "\n",
      "[notice] A new release of pip is available: 23.1 -> 23.1.2\n",
      "[notice] To update, run: python.exe -m pip install --upgrade pip\n"
     ]
    }
   ],
   "source": [
    "!pip install selenium --quiet"
   ]
  },
  {
   "cell_type": "code",
   "execution_count": 1,
   "metadata": {},
   "outputs": [],
   "source": [
    "import time\n",
    "from selenium.webdriver import Chrome\n",
    "from selenium.webdriver.common.by import By\n",
    "from selenium.webdriver.common.keys import Keys\n",
    "from selenium.webdriver.support.ui import WebDriverWait\n",
    "from selenium.webdriver.support import expected_conditions as EC"
   ]
  },
  {
   "cell_type": "markdown",
   "metadata": {},
   "source": [
    "### Scrap"
   ]
  },
  {
   "cell_type": "code",
   "execution_count": 2,
   "metadata": {},
   "outputs": [
    {
     "name": "stderr",
     "output_type": "stream",
     "text": [
      "C:\\Users\\Dio\\AppData\\Local\\Temp/ipykernel_31424/3059915953.py:3: DeprecationWarning: executable_path has been deprecated, please pass in a Service object\n",
      "  with Chrome(executable_path=r'C:\\webdrivers\\chromedriver.exe') as driver:\n"
     ]
    }
   ],
   "source": [
    "data = []\n",
    "\n",
    "with Chrome(executable_path=r'C:\\webdrivers\\chromedriver.exe') as driver:\n",
    "    wait = WebDriverWait(driver, 10)\n",
    "    driver.get(\n",
    "        \"https://www.youtube.com/watch?v=rxzhWUWV9yM&ab_channel=KOMPASTV\")\n",
    "\n",
    "    for item in range(10):\n",
    "        wait.until(EC.visibility_of_element_located(\n",
    "            (By.TAG_NAME, \"body\"))).send_keys(Keys.END)\n",
    "        time.sleep(5)\n",
    "\n",
    "    for comment in wait.until(EC.presence_of_all_elements_located((By.CSS_SELECTOR, \"#content\"))):\n",
    "        data.append(comment.text)\n"
   ]
  },
  {
   "cell_type": "code",
   "execution_count": 3,
   "metadata": {},
   "outputs": [
    {
     "data": {
      "text/html": [
       "<div>\n",
       "<style scoped>\n",
       "    .dataframe tbody tr th:only-of-type {\n",
       "        vertical-align: middle;\n",
       "    }\n",
       "\n",
       "    .dataframe tbody tr th {\n",
       "        vertical-align: top;\n",
       "    }\n",
       "\n",
       "    .dataframe thead th {\n",
       "        text-align: right;\n",
       "    }\n",
       "</style>\n",
       "<table border=\"1\" class=\"dataframe\">\n",
       "  <thead>\n",
       "    <tr style=\"text-align: right;\">\n",
       "      <th></th>\n",
       "      <th>comment</th>\n",
       "    </tr>\n",
       "  </thead>\n",
       "  <tbody>\n",
       "    <tr>\n",
       "      <th>0</th>\n",
       "      <td>ID\\nSkip navigation\\nSign in\\nIni Jagoan Pilpr...</td>\n",
       "    </tr>\n",
       "    <tr>\n",
       "      <th>1</th>\n",
       "      <td></td>\n",
       "    </tr>\n",
       "    <tr>\n",
       "      <th>2</th>\n",
       "      <td>Jika masarakat Indonesia ingin ketentraman dan...</td>\n",
       "    </tr>\n",
       "    <tr>\n",
       "      <th>3</th>\n",
       "      <td>Kita doakan agar datang pemimpin nasional yg b...</td>\n",
       "    </tr>\n",
       "    <tr>\n",
       "      <th>4</th>\n",
       "      <td>Semoga kita jgn salah pilih, karna menyangkut ...</td>\n",
       "    </tr>\n",
       "    <tr>\n",
       "      <th>...</th>\n",
       "      <td>...</td>\n",
       "    </tr>\n",
       "    <tr>\n",
       "      <th>624</th>\n",
       "      <td></td>\n",
       "    </tr>\n",
       "    <tr>\n",
       "      <th>625</th>\n",
       "      <td></td>\n",
       "    </tr>\n",
       "    <tr>\n",
       "      <th>626</th>\n",
       "      <td></td>\n",
       "    </tr>\n",
       "    <tr>\n",
       "      <th>627</th>\n",
       "      <td></td>\n",
       "    </tr>\n",
       "    <tr>\n",
       "      <th>628</th>\n",
       "      <td></td>\n",
       "    </tr>\n",
       "  </tbody>\n",
       "</table>\n",
       "<p>629 rows × 1 columns</p>\n",
       "</div>"
      ],
      "text/plain": [
       "                                               comment\n",
       "0    ID\\nSkip navigation\\nSign in\\nIni Jagoan Pilpr...\n",
       "1                                                     \n",
       "2    Jika masarakat Indonesia ingin ketentraman dan...\n",
       "3    Kita doakan agar datang pemimpin nasional yg b...\n",
       "4    Semoga kita jgn salah pilih, karna menyangkut ...\n",
       "..                                                 ...\n",
       "624                                                   \n",
       "625                                                   \n",
       "626                                                   \n",
       "627                                                   \n",
       "628                                                   \n",
       "\n",
       "[629 rows x 1 columns]"
      ]
     },
     "execution_count": 3,
     "metadata": {},
     "output_type": "execute_result"
    }
   ],
   "source": [
    "import pandas as pd\n",
    "df = pd.DataFrame(data, columns=['comment'])\n",
    "df"
   ]
  },
  {
   "cell_type": "markdown",
   "metadata": {},
   "source": [
    "### Preporcessing and Cleaning"
   ]
  },
  {
   "cell_type": "code",
   "execution_count": 4,
   "metadata": {},
   "outputs": [],
   "source": [
    "import re\n",
    "import string\n",
    "import numpy as np\n",
    "\n",
    "# Text Cleaning\n",
    "\n",
    "\n",
    "def cleaning(text):\n",
    "    # HTML Tag Removal\n",
    "\n",
    "    text = re.compile(\n",
    "        '<.*?>|&([a-z0-9]+|#[0-9]{1,6}|#x[0-9a-f]{1,6});').sub('', str(text))\n",
    "\n",
    "    # Case folding\n",
    "    text = text.lower()\n",
    "\n",
    "    # Trim text\n",
    "    text = text.strip()\n",
    "\n",
    "    # Remove punctuations, karakter spesial, and spasi ganda\n",
    "    text = re.compile('<.*?>').sub('', text)\n",
    "    text = re.compile('[%s]' % re.escape(string.punctuation)).sub(' ', text)\n",
    "    text = re.sub('\\s+', ' ', text)\n",
    "\n",
    "    # Number removal\n",
    "    text = re.sub(r'\\[[0-9]*\\]', ' ', text)\n",
    "    text = re.sub(r'[^\\w\\s]', '', str(text).lower().strip())\n",
    "    text = re.sub(r'\\d', ' ', text)\n",
    "    text = re.sub(r'\\s+', ' ', text)\n",
    "\n",
    "    # Mengubah text 'nan' dengan whitespace agar nantinya dapat dihapus\n",
    "    text = re.sub('nan', '', text)\n",
    "\n",
    "    return text"
   ]
  },
  {
   "cell_type": "code",
   "execution_count": 5,
   "metadata": {},
   "outputs": [],
   "source": [
    "from nltk.stem import PorterStemmer\n",
    "from indoNLP.preprocessing import pipeline, replace_word_elongation, replace_slang, emoji_to_words, remove_html\n",
    "pipe = pipeline([replace_word_elongation, replace_slang,\n",
    "                emoji_to_words, remove_html])\n",
    "# steamming\n",
    "ps = PorterStemmer()"
   ]
  },
  {
   "cell_type": "code",
   "execution_count": 6,
   "metadata": {},
   "outputs": [],
   "source": [
    "df['comment (clean)'] = df['comment'].apply(lambda x: pipe(x))\n",
    "df['comment (clean)'] = df['comment (clean)'].apply(lambda x: cleaning(x))\n",
    "# ubah empty string menjadi NaN\n",
    "df['comment (clean)'] = df['comment (clean)'].replace('', np.nan)"
   ]
  },
  {
   "cell_type": "code",
   "execution_count": 7,
   "metadata": {},
   "outputs": [
    {
     "name": "stdout",
     "output_type": "stream",
     "text": [
      "comment            0\n",
      "comment (clean)    9\n",
      "dtype: int64\n"
     ]
    }
   ],
   "source": [
    "print(df.isna().sum())"
   ]
  },
  {
   "cell_type": "code",
   "execution_count": 8,
   "metadata": {},
   "outputs": [],
   "source": [
    "df.dropna(inplace=True)"
   ]
  },
  {
   "cell_type": "markdown",
   "metadata": {},
   "source": [
    "### Data Clean"
   ]
  },
  {
   "cell_type": "code",
   "execution_count": 9,
   "metadata": {},
   "outputs": [
    {
     "data": {
      "text/html": [
       "<div>\n",
       "<style scoped>\n",
       "    .dataframe tbody tr th:only-of-type {\n",
       "        vertical-align: middle;\n",
       "    }\n",
       "\n",
       "    .dataframe tbody tr th {\n",
       "        vertical-align: top;\n",
       "    }\n",
       "\n",
       "    .dataframe thead th {\n",
       "        text-align: right;\n",
       "    }\n",
       "</style>\n",
       "<table border=\"1\" class=\"dataframe\">\n",
       "  <thead>\n",
       "    <tr style=\"text-align: right;\">\n",
       "      <th></th>\n",
       "      <th>comment</th>\n",
       "      <th>comment (clean)</th>\n",
       "    </tr>\n",
       "  </thead>\n",
       "  <tbody>\n",
       "    <tr>\n",
       "      <th>0</th>\n",
       "      <td>ID\\nSkip navigation\\nSign in\\nIni Jagoan Pilpr...</td>\n",
       "      <td>id skip navigation sign ini ini jagoan pilpres...</td>\n",
       "    </tr>\n",
       "    <tr>\n",
       "      <th>2</th>\n",
       "      <td>Jika masarakat Indonesia ingin ketentraman dan...</td>\n",
       "      <td>jika masarakat indonesia ingin ketentraman dan...</td>\n",
       "    </tr>\n",
       "    <tr>\n",
       "      <th>3</th>\n",
       "      <td>Kita doakan agar datang pemimpin nasional yg b...</td>\n",
       "      <td>kita doakan agar datang pemimpin nasional yang...</td>\n",
       "    </tr>\n",
       "    <tr>\n",
       "      <th>4</th>\n",
       "      <td>Semoga kita jgn salah pilih, karna menyangkut ...</td>\n",
       "      <td>semoga kita jangan salah pilih karena menyangk...</td>\n",
       "    </tr>\n",
       "    <tr>\n",
       "      <th>5</th>\n",
       "      <td>Ganjar menang di survei Anis menang di hati ma...</td>\n",
       "      <td>ganjar meg di survei anis meg di hati masyarakat</td>\n",
       "    </tr>\n",
       "    <tr>\n",
       "      <th>...</th>\n",
       "      <td>...</td>\n",
       "      <td>...</td>\n",
       "    </tr>\n",
       "    <tr>\n",
       "      <th>617</th>\n",
       "      <td>Kalo pilpres tidak pake sistim degital tetap k...</td>\n",
       "      <td>kalo pilpres tidak pakai sistim degital tetap ...</td>\n",
       "    </tr>\n",
       "    <tr>\n",
       "      <th>618</th>\n",
       "      <td>Sapa aja boleh  Asal jgn ganjar dan puan</td>\n",
       "      <td>sapa saja boleh asal jangan ganjar dan puan</td>\n",
       "    </tr>\n",
       "    <tr>\n",
       "      <th>619</th>\n",
       "      <td>3 Mestro Pemimpin Milineal Bangsa Mengubah wuj...</td>\n",
       "      <td>mestro pemimpin milineal bangsa mengubah wuju...</td>\n",
       "    </tr>\n",
       "    <tr>\n",
       "      <th>620</th>\n",
       "      <td>Kalo begitu, PDIp lh yg mau trs berkuasa</td>\n",
       "      <td>kalo begitu pdip boleh yang mau terus berkuasa</td>\n",
       "    </tr>\n",
       "    <tr>\n",
       "      <th>621</th>\n",
       "      <td>Diakui/tdk pak Anies the best</td>\n",
       "      <td>diakui tidak pak anies the best</td>\n",
       "    </tr>\n",
       "  </tbody>\n",
       "</table>\n",
       "<p>620 rows × 2 columns</p>\n",
       "</div>"
      ],
      "text/plain": [
       "                                               comment  \\\n",
       "0    ID\\nSkip navigation\\nSign in\\nIni Jagoan Pilpr...   \n",
       "2    Jika masarakat Indonesia ingin ketentraman dan...   \n",
       "3    Kita doakan agar datang pemimpin nasional yg b...   \n",
       "4    Semoga kita jgn salah pilih, karna menyangkut ...   \n",
       "5    Ganjar menang di survei Anis menang di hati ma...   \n",
       "..                                                 ...   \n",
       "617  Kalo pilpres tidak pake sistim degital tetap k...   \n",
       "618           Sapa aja boleh  Asal jgn ganjar dan puan   \n",
       "619  3 Mestro Pemimpin Milineal Bangsa Mengubah wuj...   \n",
       "620           Kalo begitu, PDIp lh yg mau trs berkuasa   \n",
       "621                      Diakui/tdk pak Anies the best   \n",
       "\n",
       "                                       comment (clean)  \n",
       "0    id skip navigation sign ini ini jagoan pilpres...  \n",
       "2    jika masarakat indonesia ingin ketentraman dan...  \n",
       "3    kita doakan agar datang pemimpin nasional yang...  \n",
       "4    semoga kita jangan salah pilih karena menyangk...  \n",
       "5    ganjar meg di survei anis meg di hati masyarakat   \n",
       "..                                                 ...  \n",
       "617  kalo pilpres tidak pakai sistim degital tetap ...  \n",
       "618        sapa saja boleh asal jangan ganjar dan puan  \n",
       "619   mestro pemimpin milineal bangsa mengubah wuju...  \n",
       "620     kalo begitu pdip boleh yang mau terus berkuasa  \n",
       "621                    diakui tidak pak anies the best  \n",
       "\n",
       "[620 rows x 2 columns]"
      ]
     },
     "execution_count": 9,
     "metadata": {},
     "output_type": "execute_result"
    }
   ],
   "source": [
    "df"
   ]
  },
  {
   "cell_type": "markdown",
   "metadata": {},
   "source": [
    "### Export to CSV"
   ]
  },
  {
   "cell_type": "code",
   "execution_count": 10,
   "metadata": {},
   "outputs": [],
   "source": [
    "# to csv\n",
    "df.to_csv('datacomment.csv', index=False)"
   ]
  }
 ],
 "metadata": {
  "kernelspec": {
   "display_name": "Python 3.9.0 64-bit",
   "language": "python",
   "name": "python3"
  },
  "language_info": {
   "codemirror_mode": {
    "name": "ipython",
    "version": 3
   },
   "file_extension": ".py",
   "mimetype": "text/x-python",
   "name": "python",
   "nbconvert_exporter": "python",
   "pygments_lexer": "ipython3",
   "version": "3.9.0"
  },
  "orig_nbformat": 4,
  "vscode": {
   "interpreter": {
    "hash": "800d7d72e1656d62149aad0109272b9fc1820f1f4424e796988e696c3c5dab3d"
   }
  }
 },
 "nbformat": 4,
 "nbformat_minor": 2
}
