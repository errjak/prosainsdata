{
 "cells": [
  {
   "cell_type": "markdown",
   "metadata": {},
   "source": [
    "# Tugas 5 (LSA Topic Modeling)"
   ]
  },
  {
   "cell_type": "markdown",
   "metadata": {},
   "source": [
    "### Read Data"
   ]
  },
  {
   "cell_type": "code",
   "execution_count": 1,
   "metadata": {},
   "outputs": [],
   "source": [
    "# ignore warnings\n",
    "import warnings\n",
    "warnings.filterwarnings('ignore')"
   ]
  },
  {
   "cell_type": "code",
   "execution_count": 2,
   "metadata": {},
   "outputs": [
    {
     "data": {
      "text/html": [
       "<div>\n",
       "<style scoped>\n",
       "    .dataframe tbody tr th:only-of-type {\n",
       "        vertical-align: middle;\n",
       "    }\n",
       "\n",
       "    .dataframe tbody tr th {\n",
       "        vertical-align: top;\n",
       "    }\n",
       "\n",
       "    .dataframe thead th {\n",
       "        text-align: right;\n",
       "    }\n",
       "</style>\n",
       "<table border=\"1\" class=\"dataframe\">\n",
       "  <thead>\n",
       "    <tr style=\"text-align: right;\">\n",
       "      <th></th>\n",
       "      <th>comment</th>\n",
       "      <th>comment (clean)</th>\n",
       "    </tr>\n",
       "  </thead>\n",
       "  <tbody>\n",
       "    <tr>\n",
       "      <th>0</th>\n",
       "      <td>ID\\nSkip navigation\\nSign in\\nIni Jagoan Pilpr...</td>\n",
       "      <td>id skip navigation sign ini ini jagoan pilpres...</td>\n",
       "    </tr>\n",
       "    <tr>\n",
       "      <th>1</th>\n",
       "      <td>Jika masarakat Indonesia ingin ketentraman dan...</td>\n",
       "      <td>jika masarakat indonesia ingin ketentraman dan...</td>\n",
       "    </tr>\n",
       "    <tr>\n",
       "      <th>2</th>\n",
       "      <td>Kita doakan agar datang pemimpin nasional yg b...</td>\n",
       "      <td>kita doakan agar datang pemimpin nasional yang...</td>\n",
       "    </tr>\n",
       "    <tr>\n",
       "      <th>3</th>\n",
       "      <td>Semoga kita jgn salah pilih, karna menyangkut ...</td>\n",
       "      <td>semoga kita jangan salah pilih karena menyangk...</td>\n",
       "    </tr>\n",
       "    <tr>\n",
       "      <th>4</th>\n",
       "      <td>Ganjar menang di survei Anis menang di hati ma...</td>\n",
       "      <td>ganjar meg di survei anis meg di hati masyarakat</td>\n",
       "    </tr>\n",
       "    <tr>\n",
       "      <th>...</th>\n",
       "      <td>...</td>\n",
       "      <td>...</td>\n",
       "    </tr>\n",
       "    <tr>\n",
       "      <th>615</th>\n",
       "      <td>Kalo pilpres tidak pake sistim degital tetap k...</td>\n",
       "      <td>kalo pilpres tidak pakai sistim degital tetap ...</td>\n",
       "    </tr>\n",
       "    <tr>\n",
       "      <th>616</th>\n",
       "      <td>Sapa aja boleh  Asal jgn ganjar dan puan</td>\n",
       "      <td>sapa saja boleh asal jangan ganjar dan puan</td>\n",
       "    </tr>\n",
       "    <tr>\n",
       "      <th>617</th>\n",
       "      <td>3 Mestro Pemimpin Milineal Bangsa Mengubah wuj...</td>\n",
       "      <td>mestro pemimpin milineal bangsa mengubah wuju...</td>\n",
       "    </tr>\n",
       "    <tr>\n",
       "      <th>618</th>\n",
       "      <td>Kalo begitu, PDIp lh yg mau trs berkuasa</td>\n",
       "      <td>kalo begitu pdip boleh yang mau terus berkuasa</td>\n",
       "    </tr>\n",
       "    <tr>\n",
       "      <th>619</th>\n",
       "      <td>Diakui/tdk pak Anies the best</td>\n",
       "      <td>diakui tidak pak anies the best</td>\n",
       "    </tr>\n",
       "  </tbody>\n",
       "</table>\n",
       "<p>620 rows × 2 columns</p>\n",
       "</div>"
      ],
      "text/plain": [
       "                                               comment  \\\n",
       "0    ID\\nSkip navigation\\nSign in\\nIni Jagoan Pilpr...   \n",
       "1    Jika masarakat Indonesia ingin ketentraman dan...   \n",
       "2    Kita doakan agar datang pemimpin nasional yg b...   \n",
       "3    Semoga kita jgn salah pilih, karna menyangkut ...   \n",
       "4    Ganjar menang di survei Anis menang di hati ma...   \n",
       "..                                                 ...   \n",
       "615  Kalo pilpres tidak pake sistim degital tetap k...   \n",
       "616           Sapa aja boleh  Asal jgn ganjar dan puan   \n",
       "617  3 Mestro Pemimpin Milineal Bangsa Mengubah wuj...   \n",
       "618           Kalo begitu, PDIp lh yg mau trs berkuasa   \n",
       "619                      Diakui/tdk pak Anies the best   \n",
       "\n",
       "                                       comment (clean)  \n",
       "0    id skip navigation sign ini ini jagoan pilpres...  \n",
       "1    jika masarakat indonesia ingin ketentraman dan...  \n",
       "2    kita doakan agar datang pemimpin nasional yang...  \n",
       "3    semoga kita jangan salah pilih karena menyangk...  \n",
       "4    ganjar meg di survei anis meg di hati masyarakat   \n",
       "..                                                 ...  \n",
       "615  kalo pilpres tidak pakai sistim degital tetap ...  \n",
       "616        sapa saja boleh asal jangan ganjar dan puan  \n",
       "617   mestro pemimpin milineal bangsa mengubah wuju...  \n",
       "618     kalo begitu pdip boleh yang mau terus berkuasa  \n",
       "619                    diakui tidak pak anies the best  \n",
       "\n",
       "[620 rows x 2 columns]"
      ]
     },
     "execution_count": 2,
     "metadata": {},
     "output_type": "execute_result"
    }
   ],
   "source": [
    "import pandas as pd\n",
    "df = pd.read_csv(\n",
    "    'https://raw.githubusercontent.com/errjak/dataset/main/datacomment.csv')\n",
    "df"
   ]
  },
  {
   "cell_type": "markdown",
   "metadata": {},
   "source": [
    "### Modelling"
   ]
  },
  {
   "cell_type": "code",
   "execution_count": 3,
   "metadata": {},
   "outputs": [
    {
     "data": {
      "text/plain": [
       "True"
      ]
     },
     "execution_count": 3,
     "metadata": {},
     "output_type": "execute_result"
    }
   ],
   "source": [
    "import nltk\n",
    "nltk.download('stopwords', quiet=True)\n"
   ]
  },
  {
   "cell_type": "code",
   "execution_count": 4,
   "metadata": {},
   "outputs": [],
   "source": [
    "from nltk.tokenize import RegexpTokenizer\n",
    "from sklearn.decomposition import TruncatedSVD\n",
    "from sklearn.feature_extraction.text import TfidfVectorizer\n",
    "\n",
    "from nltk.corpus import stopwords\n",
    "stopwords = stopwords.words('indonesian')\n",
    "\n",
    "# Membentuk matriks dokumen x kata\n",
    "tokenizer = RegexpTokenizer(r'\\w+')\n",
    "vectorizer = TfidfVectorizer(lowercase=True,\n",
    "                             stop_words=stopwords,\n",
    "                             tokenizer=tokenizer.tokenize)\n",
    "\n",
    "tfidf_matrix = vectorizer.fit_transform(df['comment (clean)'])\n",
    "\n",
    "# Melakukan dekomposisi matriks dengan SVD\n",
    "svd_model = TruncatedSVD(n_components=4)\n",
    "lsa_matrix = svd_model.fit_transform(tfidf_matrix)"
   ]
  },
  {
   "cell_type": "markdown",
   "metadata": {},
   "source": [
    "### bobot kata"
   ]
  },
  {
   "cell_type": "code",
   "execution_count": 5,
   "metadata": {},
   "outputs": [
    {
     "name": "stdout",
     "output_type": "stream",
     "text": [
      "Topic 0:  [('ganjar', 0.8015227951104641), ('pranowo', 0.36086427029376134)]\n",
      "Topic 1:  [('anis', 0.4127634533301101), ('semoga', 0.3045565537768373)]\n",
      "Topic 2:  [('anis', 0.6561329950834731), ('baswedan', 0.1639745610581629)]\n",
      "Topic 3:  [('ridwan', 0.35821626868527273), ('kamil', 0.33859288840946716)]\n"
     ]
    }
   ],
   "source": [
    "# bobot kata terhadap masing masing topik\n",
    "terms = vectorizer.get_feature_names_out()\n",
    "\n",
    "for index, component in enumerate(svd_model.components_):\n",
    "    zipped = zip(terms, component)\n",
    "    top_terms_key=sorted(zipped, key = lambda t: t[1], reverse=True)[:2]\n",
    "    print(\"Topic \"+str(index)+\": \",top_terms_key)"
   ]
  },
  {
   "cell_type": "markdown",
   "metadata": {},
   "source": [
    "### bobot setiap topik"
   ]
  },
  {
   "cell_type": "code",
   "execution_count": 6,
   "metadata": {},
   "outputs": [
    {
     "data": {
      "text/html": [
       "<div>\n",
       "<style scoped>\n",
       "    .dataframe tbody tr th:only-of-type {\n",
       "        vertical-align: middle;\n",
       "    }\n",
       "\n",
       "    .dataframe tbody tr th {\n",
       "        vertical-align: top;\n",
       "    }\n",
       "\n",
       "    .dataframe thead th {\n",
       "        text-align: right;\n",
       "    }\n",
       "</style>\n",
       "<table border=\"1\" class=\"dataframe\">\n",
       "  <thead>\n",
       "    <tr style=\"text-align: right;\">\n",
       "      <th></th>\n",
       "      <th>comment (clean)</th>\n",
       "      <th>Topik 0</th>\n",
       "      <th>Topik 1</th>\n",
       "      <th>Topik 2</th>\n",
       "      <th>Topik 3</th>\n",
       "      <th>Topik</th>\n",
       "    </tr>\n",
       "  </thead>\n",
       "  <tbody>\n",
       "    <tr>\n",
       "      <th>0</th>\n",
       "      <td>id skip navigation sign ini ini jagoan pilpres...</td>\n",
       "      <td>0.144787</td>\n",
       "      <td>0.124085</td>\n",
       "      <td>-0.033238</td>\n",
       "      <td>-0.007034</td>\n",
       "      <td>0</td>\n",
       "    </tr>\n",
       "    <tr>\n",
       "      <th>1</th>\n",
       "      <td>jika masarakat indonesia ingin ketentraman dan...</td>\n",
       "      <td>0.035902</td>\n",
       "      <td>0.088992</td>\n",
       "      <td>-0.062081</td>\n",
       "      <td>-0.049254</td>\n",
       "      <td>1</td>\n",
       "    </tr>\n",
       "    <tr>\n",
       "      <th>2</th>\n",
       "      <td>kita doakan agar datang pemimpin nasional yang...</td>\n",
       "      <td>0.061436</td>\n",
       "      <td>0.139722</td>\n",
       "      <td>-0.004767</td>\n",
       "      <td>-0.079815</td>\n",
       "      <td>1</td>\n",
       "    </tr>\n",
       "    <tr>\n",
       "      <th>3</th>\n",
       "      <td>semoga kita jangan salah pilih karena menyangk...</td>\n",
       "      <td>0.102842</td>\n",
       "      <td>0.239149</td>\n",
       "      <td>-0.146182</td>\n",
       "      <td>-0.151532</td>\n",
       "      <td>1</td>\n",
       "    </tr>\n",
       "    <tr>\n",
       "      <th>4</th>\n",
       "      <td>ganjar meg di survei anis meg di hati masyarakat</td>\n",
       "      <td>0.205908</td>\n",
       "      <td>0.114505</td>\n",
       "      <td>0.150622</td>\n",
       "      <td>-0.039845</td>\n",
       "      <td>0</td>\n",
       "    </tr>\n",
       "    <tr>\n",
       "      <th>...</th>\n",
       "      <td>...</td>\n",
       "      <td>...</td>\n",
       "      <td>...</td>\n",
       "      <td>...</td>\n",
       "      <td>...</td>\n",
       "      <td>...</td>\n",
       "    </tr>\n",
       "    <tr>\n",
       "      <th>615</th>\n",
       "      <td>kalo pilpres tidak pakai sistim degital tetap ...</td>\n",
       "      <td>0.059383</td>\n",
       "      <td>0.039824</td>\n",
       "      <td>0.020276</td>\n",
       "      <td>0.022528</td>\n",
       "      <td>0</td>\n",
       "    </tr>\n",
       "    <tr>\n",
       "      <th>616</th>\n",
       "      <td>sapa saja boleh asal jangan ganjar dan puan</td>\n",
       "      <td>0.225357</td>\n",
       "      <td>-0.075593</td>\n",
       "      <td>0.016417</td>\n",
       "      <td>-0.006042</td>\n",
       "      <td>0</td>\n",
       "    </tr>\n",
       "    <tr>\n",
       "      <th>617</th>\n",
       "      <td>mestro pemimpin milineal bangsa mengubah wuju...</td>\n",
       "      <td>0.175793</td>\n",
       "      <td>0.174926</td>\n",
       "      <td>0.170143</td>\n",
       "      <td>0.102222</td>\n",
       "      <td>0</td>\n",
       "    </tr>\n",
       "    <tr>\n",
       "      <th>618</th>\n",
       "      <td>kalo begitu pdip boleh yang mau terus berkuasa</td>\n",
       "      <td>0.021243</td>\n",
       "      <td>0.024430</td>\n",
       "      <td>-0.018350</td>\n",
       "      <td>0.014611</td>\n",
       "      <td>1</td>\n",
       "    </tr>\n",
       "    <tr>\n",
       "      <th>619</th>\n",
       "      <td>diakui tidak pak anies the best</td>\n",
       "      <td>0.040486</td>\n",
       "      <td>0.054727</td>\n",
       "      <td>0.007772</td>\n",
       "      <td>0.007332</td>\n",
       "      <td>1</td>\n",
       "    </tr>\n",
       "  </tbody>\n",
       "</table>\n",
       "<p>620 rows × 6 columns</p>\n",
       "</div>"
      ],
      "text/plain": [
       "                                       comment (clean)   Topik 0   Topik 1  \\\n",
       "0    id skip navigation sign ini ini jagoan pilpres...  0.144787  0.124085   \n",
       "1    jika masarakat indonesia ingin ketentraman dan...  0.035902  0.088992   \n",
       "2    kita doakan agar datang pemimpin nasional yang...  0.061436  0.139722   \n",
       "3    semoga kita jangan salah pilih karena menyangk...  0.102842  0.239149   \n",
       "4    ganjar meg di survei anis meg di hati masyarakat   0.205908  0.114505   \n",
       "..                                                 ...       ...       ...   \n",
       "615  kalo pilpres tidak pakai sistim degital tetap ...  0.059383  0.039824   \n",
       "616        sapa saja boleh asal jangan ganjar dan puan  0.225357 -0.075593   \n",
       "617   mestro pemimpin milineal bangsa mengubah wuju...  0.175793  0.174926   \n",
       "618     kalo begitu pdip boleh yang mau terus berkuasa  0.021243  0.024430   \n",
       "619                    diakui tidak pak anies the best  0.040486  0.054727   \n",
       "\n",
       "      Topik 2   Topik 3  Topik  \n",
       "0   -0.033238 -0.007034      0  \n",
       "1   -0.062081 -0.049254      1  \n",
       "2   -0.004767 -0.079815      1  \n",
       "3   -0.146182 -0.151532      1  \n",
       "4    0.150622 -0.039845      0  \n",
       "..        ...       ...    ...  \n",
       "615  0.020276  0.022528      0  \n",
       "616  0.016417 -0.006042      0  \n",
       "617  0.170143  0.102222      0  \n",
       "618 -0.018350  0.014611      1  \n",
       "619  0.007772  0.007332      1  \n",
       "\n",
       "[620 rows x 6 columns]"
      ]
     },
     "execution_count": 6,
     "metadata": {},
     "output_type": "execute_result"
    }
   ],
   "source": [
    "# bobot setiap topik terhadap  dokumen\n",
    "df_lsa = pd.DataFrame(lsa_matrix, columns=[\n",
    "                      \"Topik 0\", \"Topik 1\", \"Topik 2\", \"Topik 3\"])\n",
    "df_lsa = pd.concat([df[\"comment (clean)\"], df_lsa], axis=1)\n",
    "df_lsa['Topik'] = df_lsa[['Topik 0', 'Topik 1', 'Topik 2', 'Topik 3']].apply(\n",
    "    lambda x: x.argmax(), axis=1)\n",
    "\n",
    "df_lsa"
   ]
  },
  {
   "cell_type": "code",
   "execution_count": 7,
   "metadata": {},
   "outputs": [
    {
     "data": {
      "text/plain": [
       "1    310\n",
       "0    217\n",
       "3     56\n",
       "2     37\n",
       "Name: Topik, dtype: int64"
      ]
     },
     "execution_count": 7,
     "metadata": {},
     "output_type": "execute_result"
    }
   ],
   "source": [
    "df_lsa['Topik'].value_counts()"
   ]
  }
 ],
 "metadata": {
  "kernelspec": {
   "display_name": "Python 3.9.0 64-bit",
   "language": "python",
   "name": "python3"
  },
  "language_info": {
   "codemirror_mode": {
    "name": "ipython",
    "version": 3
   },
   "file_extension": ".py",
   "mimetype": "text/x-python",
   "name": "python",
   "nbconvert_exporter": "python",
   "pygments_lexer": "ipython3",
   "version": "3.9.0"
  },
  "orig_nbformat": 4,
  "vscode": {
   "interpreter": {
    "hash": "800d7d72e1656d62149aad0109272b9fc1820f1f4424e796988e696c3c5dab3d"
   }
  }
 },
 "nbformat": 4,
 "nbformat_minor": 2
}
