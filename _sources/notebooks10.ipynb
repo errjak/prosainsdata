{
 "cells": [
  {
   "cell_type": "markdown",
   "metadata": {},
   "source": [
    "# Tugas 5 (LSA Topic Modeling)"
   ]
  },
  {
   "cell_type": "markdown",
   "metadata": {},
   "source": [
    "### Read Data"
   ]
  },
  {
   "cell_type": "code",
   "execution_count": 1,
   "metadata": {},
   "outputs": [],
   "source": [
    "# ignore warnings\n",
    "import warnings\n",
    "warnings.filterwarnings('ignore')"
   ]
  },
  {
   "cell_type": "code",
   "execution_count": 2,
   "metadata": {},
   "outputs": [
    {
     "data": {
      "text/html": [
       "<div>\n",
       "<style scoped>\n",
       "    .dataframe tbody tr th:only-of-type {\n",
       "        vertical-align: middle;\n",
       "    }\n",
       "\n",
       "    .dataframe tbody tr th {\n",
       "        vertical-align: top;\n",
       "    }\n",
       "\n",
       "    .dataframe thead th {\n",
       "        text-align: right;\n",
       "    }\n",
       "</style>\n",
       "<table border=\"1\" class=\"dataframe\">\n",
       "  <thead>\n",
       "    <tr style=\"text-align: right;\">\n",
       "      <th></th>\n",
       "      <th>comment</th>\n",
       "      <th>comment (clean)</th>\n",
       "    </tr>\n",
       "  </thead>\n",
       "  <tbody>\n",
       "    <tr>\n",
       "      <th>0</th>\n",
       "      <td>ID\\nSkip navigation\\nSign in\\nIni Jagoan Pilpr...</td>\n",
       "      <td>id skip navigation sign ini ini jagoan pilpres...</td>\n",
       "    </tr>\n",
       "    <tr>\n",
       "      <th>1</th>\n",
       "      <td>Jika masarakat Indonesia ingin ketentraman dan...</td>\n",
       "      <td>jika masarakat indonesia ingin ketentraman dan...</td>\n",
       "    </tr>\n",
       "    <tr>\n",
       "      <th>2</th>\n",
       "      <td>Kita doakan agar datang pemimpin nasional yg b...</td>\n",
       "      <td>kita doakan agar datang pemimpin nasional yang...</td>\n",
       "    </tr>\n",
       "    <tr>\n",
       "      <th>3</th>\n",
       "      <td>Semoga kita jgn salah pilih, karna menyangkut ...</td>\n",
       "      <td>semoga kita jangan salah pilih karena menyangk...</td>\n",
       "    </tr>\n",
       "    <tr>\n",
       "      <th>4</th>\n",
       "      <td>Ganjar menang di survei Anis menang di hati ma...</td>\n",
       "      <td>ganjar meg di survei anis meg di hati masyarakat</td>\n",
       "    </tr>\n",
       "    <tr>\n",
       "      <th>...</th>\n",
       "      <td>...</td>\n",
       "      <td>...</td>\n",
       "    </tr>\n",
       "    <tr>\n",
       "      <th>176</th>\n",
       "      <td>Semoga Anis Baswedan tidak salah pilih  pasang...</td>\n",
       "      <td>semoga anis baswedan tidak salah pilih pasanga...</td>\n",
       "    </tr>\n",
       "    <tr>\n",
       "      <th>177</th>\n",
       "      <td>Semoga kang Emil ( Ridwan Kamil ) bisa maju se...</td>\n",
       "      <td>semoga kang emil ridwan kamil bisa maju sebaga...</td>\n",
       "    </tr>\n",
       "    <tr>\n",
       "      <th>178</th>\n",
       "      <td>Yg jelas yg bersih dari kasus korupsi.\\ndan ke...</td>\n",
       "      <td>yang jelas yang bersih dari kasus korupsi dan ...</td>\n",
       "    </tr>\n",
       "    <tr>\n",
       "      <th>179</th>\n",
       "      <td>Pak Ganjar Pranowo selalu dihati\\n Slam dari m...</td>\n",
       "      <td>pak ganjar pranowo selalu dihati salam dari ma...</td>\n",
       "    </tr>\n",
       "    <tr>\n",
       "      <th>180</th>\n",
       "      <td>Pak Mak Ganjar</td>\n",
       "      <td>pak mak ganjar</td>\n",
       "    </tr>\n",
       "  </tbody>\n",
       "</table>\n",
       "<p>181 rows × 2 columns</p>\n",
       "</div>"
      ],
      "text/plain": [
       "                                               comment  \\\n",
       "0    ID\\nSkip navigation\\nSign in\\nIni Jagoan Pilpr...   \n",
       "1    Jika masarakat Indonesia ingin ketentraman dan...   \n",
       "2    Kita doakan agar datang pemimpin nasional yg b...   \n",
       "3    Semoga kita jgn salah pilih, karna menyangkut ...   \n",
       "4    Ganjar menang di survei Anis menang di hati ma...   \n",
       "..                                                 ...   \n",
       "176  Semoga Anis Baswedan tidak salah pilih  pasang...   \n",
       "177  Semoga kang Emil ( Ridwan Kamil ) bisa maju se...   \n",
       "178  Yg jelas yg bersih dari kasus korupsi.\\ndan ke...   \n",
       "179  Pak Ganjar Pranowo selalu dihati\\n Slam dari m...   \n",
       "180                                    Pak Mak Ganjar    \n",
       "\n",
       "                                       comment (clean)  \n",
       "0    id skip navigation sign ini ini jagoan pilpres...  \n",
       "1    jika masarakat indonesia ingin ketentraman dan...  \n",
       "2    kita doakan agar datang pemimpin nasional yang...  \n",
       "3    semoga kita jangan salah pilih karena menyangk...  \n",
       "4    ganjar meg di survei anis meg di hati masyarakat   \n",
       "..                                                 ...  \n",
       "176  semoga anis baswedan tidak salah pilih pasanga...  \n",
       "177  semoga kang emil ridwan kamil bisa maju sebaga...  \n",
       "178  yang jelas yang bersih dari kasus korupsi dan ...  \n",
       "179  pak ganjar pranowo selalu dihati salam dari ma...  \n",
       "180                                     pak mak ganjar  \n",
       "\n",
       "[181 rows x 2 columns]"
      ]
     },
     "execution_count": 2,
     "metadata": {},
     "output_type": "execute_result"
    }
   ],
   "source": [
    "import pandas as pd\n",
    "df = pd.read_csv(\n",
    "    'https://raw.githubusercontent.com/errjak/dataset/main/datacomment1.csv')\n",
    "df"
   ]
  },
  {
   "cell_type": "markdown",
   "metadata": {},
   "source": [
    "### Modelling"
   ]
  },
  {
   "cell_type": "code",
   "execution_count": 3,
   "metadata": {},
   "outputs": [
    {
     "data": {
      "text/plain": [
       "True"
      ]
     },
     "execution_count": 3,
     "metadata": {},
     "output_type": "execute_result"
    }
   ],
   "source": [
    "import nltk\n",
    "nltk.download('stopwords', quiet=True)\n"
   ]
  },
  {
   "cell_type": "code",
   "execution_count": 4,
   "metadata": {},
   "outputs": [],
   "source": [
    "from nltk.tokenize import RegexpTokenizer\n",
    "from sklearn.decomposition import TruncatedSVD\n",
    "from sklearn.feature_extraction.text import TfidfVectorizer\n",
    "\n",
    "from nltk.corpus import stopwords\n",
    "stopwords = stopwords.words('indonesian')\n",
    "\n",
    "# Membentuk matriks dokumen x kata\n",
    "tokenizer = RegexpTokenizer(r'\\w+')\n",
    "vectorizer = TfidfVectorizer(lowercase=True,\n",
    "                             stop_words=stopwords,\n",
    "                             tokenizer=tokenizer.tokenize)\n",
    "\n",
    "tfidf_matrix = vectorizer.fit_transform(df['comment (clean)'])\n",
    "\n",
    "# Melakukan dekomposisi matriks dengan SVD\n",
    "svd_model = TruncatedSVD(n_components=4)\n",
    "lsa_matrix = svd_model.fit_transform(tfidf_matrix)"
   ]
  },
  {
   "cell_type": "markdown",
   "metadata": {},
   "source": [
    "### bobot kata"
   ]
  },
  {
   "cell_type": "code",
   "execution_count": 5,
   "metadata": {},
   "outputs": [
    {
     "name": "stdout",
     "output_type": "stream",
     "text": [
      "Topic 0:  [('ganjar', 0.5215732293298396), ('semoga', 0.28427772257252926)]\n",
      "Topic 1:  [('ganjar', 0.5633875792073725), ('pranowo', 0.3146338252569963)]\n",
      "Topic 2:  [('bendera', 0.47463952971581697), ('indonesia', 0.31852930135529517)]\n",
      "Topic 3:  [('rakyat', 0.3906039055312414), ('dedi', 0.2889270042415189)]\n"
     ]
    }
   ],
   "source": [
    "# bobot kata terhadap masing masing topik\n",
    "terms = vectorizer.get_feature_names_out()\n",
    "\n",
    "for index, component in enumerate(svd_model.components_):\n",
    "    zipped = zip(terms, component)\n",
    "    top_terms_key=sorted(zipped, key = lambda t: t[1], reverse=True)[:2]\n",
    "    print(\"Topic \"+str(index)+\": \",top_terms_key)"
   ]
  },
  {
   "cell_type": "markdown",
   "metadata": {},
   "source": [
    "### bobot setiap topik"
   ]
  },
  {
   "cell_type": "code",
   "execution_count": 6,
   "metadata": {},
   "outputs": [
    {
     "data": {
      "text/html": [
       "<div>\n",
       "<style scoped>\n",
       "    .dataframe tbody tr th:only-of-type {\n",
       "        vertical-align: middle;\n",
       "    }\n",
       "\n",
       "    .dataframe tbody tr th {\n",
       "        vertical-align: top;\n",
       "    }\n",
       "\n",
       "    .dataframe thead th {\n",
       "        text-align: right;\n",
       "    }\n",
       "</style>\n",
       "<table border=\"1\" class=\"dataframe\">\n",
       "  <thead>\n",
       "    <tr style=\"text-align: right;\">\n",
       "      <th></th>\n",
       "      <th>comment (clean)</th>\n",
       "      <th>Topik 0</th>\n",
       "      <th>Topik 1</th>\n",
       "      <th>Topik 2</th>\n",
       "      <th>Topik 3</th>\n",
       "      <th>Topik</th>\n",
       "    </tr>\n",
       "  </thead>\n",
       "  <tbody>\n",
       "    <tr>\n",
       "      <th>0</th>\n",
       "      <td>id skip navigation sign ini ini jagoan pilpres...</td>\n",
       "      <td>0.233830</td>\n",
       "      <td>-0.059861</td>\n",
       "      <td>0.024617</td>\n",
       "      <td>0.040750</td>\n",
       "      <td>0</td>\n",
       "    </tr>\n",
       "    <tr>\n",
       "      <th>1</th>\n",
       "      <td>jika masarakat indonesia ingin ketentraman dan...</td>\n",
       "      <td>0.088780</td>\n",
       "      <td>-0.084838</td>\n",
       "      <td>-0.006623</td>\n",
       "      <td>0.079625</td>\n",
       "      <td>0</td>\n",
       "    </tr>\n",
       "    <tr>\n",
       "      <th>2</th>\n",
       "      <td>kita doakan agar datang pemimpin nasional yang...</td>\n",
       "      <td>0.128969</td>\n",
       "      <td>-0.059578</td>\n",
       "      <td>-0.064357</td>\n",
       "      <td>0.077075</td>\n",
       "      <td>0</td>\n",
       "    </tr>\n",
       "    <tr>\n",
       "      <th>3</th>\n",
       "      <td>semoga kita jangan salah pilih karena menyangk...</td>\n",
       "      <td>0.234240</td>\n",
       "      <td>-0.274441</td>\n",
       "      <td>-0.085227</td>\n",
       "      <td>0.013523</td>\n",
       "      <td>0</td>\n",
       "    </tr>\n",
       "    <tr>\n",
       "      <th>4</th>\n",
       "      <td>ganjar meg di survei anis meg di hati masyarakat</td>\n",
       "      <td>0.192664</td>\n",
       "      <td>0.101263</td>\n",
       "      <td>-0.077935</td>\n",
       "      <td>-0.010195</td>\n",
       "      <td>0</td>\n",
       "    </tr>\n",
       "    <tr>\n",
       "      <th>...</th>\n",
       "      <td>...</td>\n",
       "      <td>...</td>\n",
       "      <td>...</td>\n",
       "      <td>...</td>\n",
       "      <td>...</td>\n",
       "      <td>...</td>\n",
       "    </tr>\n",
       "    <tr>\n",
       "      <th>176</th>\n",
       "      <td>semoga anis baswedan tidak salah pilih pasanga...</td>\n",
       "      <td>0.177322</td>\n",
       "      <td>-0.215866</td>\n",
       "      <td>-0.136662</td>\n",
       "      <td>-0.079601</td>\n",
       "      <td>0</td>\n",
       "    </tr>\n",
       "    <tr>\n",
       "      <th>177</th>\n",
       "      <td>semoga kang emil ridwan kamil bisa maju sebaga...</td>\n",
       "      <td>0.301168</td>\n",
       "      <td>-0.113017</td>\n",
       "      <td>0.203455</td>\n",
       "      <td>-0.211137</td>\n",
       "      <td>0</td>\n",
       "    </tr>\n",
       "    <tr>\n",
       "      <th>178</th>\n",
       "      <td>yang jelas yang bersih dari kasus korupsi dan ...</td>\n",
       "      <td>0.029285</td>\n",
       "      <td>-0.008196</td>\n",
       "      <td>-0.004308</td>\n",
       "      <td>-0.005884</td>\n",
       "      <td>0</td>\n",
       "    </tr>\n",
       "    <tr>\n",
       "      <th>179</th>\n",
       "      <td>pak ganjar pranowo selalu dihati salam dari ma...</td>\n",
       "      <td>0.358387</td>\n",
       "      <td>0.364321</td>\n",
       "      <td>-0.038973</td>\n",
       "      <td>0.051343</td>\n",
       "      <td>1</td>\n",
       "    </tr>\n",
       "    <tr>\n",
       "      <th>180</th>\n",
       "      <td>pak mak ganjar</td>\n",
       "      <td>0.247289</td>\n",
       "      <td>0.282704</td>\n",
       "      <td>-0.047942</td>\n",
       "      <td>0.026663</td>\n",
       "      <td>1</td>\n",
       "    </tr>\n",
       "  </tbody>\n",
       "</table>\n",
       "<p>181 rows × 6 columns</p>\n",
       "</div>"
      ],
      "text/plain": [
       "                                       comment (clean)   Topik 0   Topik 1  \\\n",
       "0    id skip navigation sign ini ini jagoan pilpres...  0.233830 -0.059861   \n",
       "1    jika masarakat indonesia ingin ketentraman dan...  0.088780 -0.084838   \n",
       "2    kita doakan agar datang pemimpin nasional yang...  0.128969 -0.059578   \n",
       "3    semoga kita jangan salah pilih karena menyangk...  0.234240 -0.274441   \n",
       "4    ganjar meg di survei anis meg di hati masyarakat   0.192664  0.101263   \n",
       "..                                                 ...       ...       ...   \n",
       "176  semoga anis baswedan tidak salah pilih pasanga...  0.177322 -0.215866   \n",
       "177  semoga kang emil ridwan kamil bisa maju sebaga...  0.301168 -0.113017   \n",
       "178  yang jelas yang bersih dari kasus korupsi dan ...  0.029285 -0.008196   \n",
       "179  pak ganjar pranowo selalu dihati salam dari ma...  0.358387  0.364321   \n",
       "180                                     pak mak ganjar  0.247289  0.282704   \n",
       "\n",
       "      Topik 2   Topik 3  Topik  \n",
       "0    0.024617  0.040750      0  \n",
       "1   -0.006623  0.079625      0  \n",
       "2   -0.064357  0.077075      0  \n",
       "3   -0.085227  0.013523      0  \n",
       "4   -0.077935 -0.010195      0  \n",
       "..        ...       ...    ...  \n",
       "176 -0.136662 -0.079601      0  \n",
       "177  0.203455 -0.211137      0  \n",
       "178 -0.004308 -0.005884      0  \n",
       "179 -0.038973  0.051343      1  \n",
       "180 -0.047942  0.026663      1  \n",
       "\n",
       "[181 rows x 6 columns]"
      ]
     },
     "execution_count": 6,
     "metadata": {},
     "output_type": "execute_result"
    }
   ],
   "source": [
    "# bobot setiap topik terhadap  dokumen\n",
    "df_lsa = pd.DataFrame(lsa_matrix, columns=[\n",
    "                      \"Topik 0\", \"Topik 1\", \"Topik 2\", \"Topik 3\"])\n",
    "df_lsa = pd.concat([df[\"comment (clean)\"], df_lsa], axis=1)\n",
    "df_lsa['Topik'] = df_lsa[['Topik 0', 'Topik 1', 'Topik 2', 'Topik 3']].apply(\n",
    "    lambda x: x.argmax(), axis=1)\n",
    "\n",
    "df_lsa"
   ]
  },
  {
   "cell_type": "code",
   "execution_count": 7,
   "metadata": {},
   "outputs": [
    {
     "data": {
      "text/plain": [
       "0    123\n",
       "3     30\n",
       "1     15\n",
       "2     13\n",
       "Name: Topik, dtype: int64"
      ]
     },
     "execution_count": 7,
     "metadata": {},
     "output_type": "execute_result"
    }
   ],
   "source": [
    "df_lsa['Topik'].value_counts()"
   ]
  }
 ],
 "metadata": {
  "kernelspec": {
   "display_name": "Python 3.9.0 64-bit",
   "language": "python",
   "name": "python3"
  },
  "language_info": {
   "codemirror_mode": {
    "name": "ipython",
    "version": 3
   },
   "file_extension": ".py",
   "mimetype": "text/x-python",
   "name": "python",
   "nbconvert_exporter": "python",
   "pygments_lexer": "ipython3",
   "version": "3.9.0"
  },
  "orig_nbformat": 4,
  "vscode": {
   "interpreter": {
    "hash": "800d7d72e1656d62149aad0109272b9fc1820f1f4424e796988e696c3c5dab3d"
   }
  }
 },
 "nbformat": 4,
 "nbformat_minor": 2
}
